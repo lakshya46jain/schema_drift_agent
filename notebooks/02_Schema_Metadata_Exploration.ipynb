{
 "cells": [
  {
   "cell_type": "code",
   "execution_count": 0,
   "metadata": {
    "application/vnd.databricks.v1+cell": {
     "cellMetadata": {
      "byteLimit": 2048000,
      "rowLimit": 10000
     },
     "inputWidgets": {},
     "nuid": "e2509717-8813-4732-a875-3ef9bb85c164",
     "showTitle": false,
     "tableResultSettingsMap": {},
     "title": ""
    }
   },
   "outputs": [],
   "source": [
    "from src.schema_diff import load_schema, compute_schema_diff\n",
    "from pprint import pprint\n",
    "\n",
    "old = load_schema(\"/Workspace/Users/lakshya.jain@tmdc.io/schema_drift_agent/schemas/schema_test_old.json\")\n",
    "new = load_schema(\"/Workspace/Users/lakshya.jain@tmdc.io/schema_drift_agent/schemas/schema_test_new.json\")\n",
    "\n",
    "# Prints the Old Schema\n",
    "print(\"Old Schema:\")\n",
    "pprint(old)\n",
    "\n",
    "# Prints the New Schema\n",
    "print(\"New Schema:\")\n",
    "pprint(new)\n",
    "\n",
    "# Prints the Difference Between the 2 Schemas\n",
    "diff = compute_schema_diff(old, new)\n",
    "print(\"Detected drift:\")\n",
    "pprint(diff)"
   ]
  }
 ],
 "metadata": {
  "application/vnd.databricks.v1+notebook": {
   "computePreferences": null,
   "dashboards": [],
   "environmentMetadata": {
    "base_environment": "",
    "environment_version": "2"
   },
   "inputWidgetPreferences": null,
   "language": "python",
   "notebookMetadata": {
    "pythonIndentUnit": 4
   },
   "notebookName": "02_Schema_Metadata_Exploration",
   "widgets": {}
  },
  "language_info": {
   "name": "python"
  }
 },
 "nbformat": 4,
 "nbformat_minor": 0
}
