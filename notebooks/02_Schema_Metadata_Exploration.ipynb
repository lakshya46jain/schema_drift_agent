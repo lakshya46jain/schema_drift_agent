{
 "cells": [
  {
   "cell_type": "markdown",
   "metadata": {
    "application/vnd.databricks.v1+cell": {
     "cellMetadata": {
      "byteLimit": 2048000,
      "rowLimit": 10000
     },
     "inputWidgets": {},
     "nuid": "121dcc76-95e6-4210-9b2d-1788454ae270",
     "showTitle": false,
     "tableResultSettingsMap": {},
     "title": ""
    }
   },
   "source": [
    "## [02] Schema Metadata Exploration\n",
    "\n",
    "This notebook is meant to inspect and visually compare raw old and new schema JSONs using `compute_schema_diff`.\n",
    "\n",
    "It helps developers visually validate:\n",
    "- The structure of schemas before comparison\n",
    "- What kinds of changes the diff engine detects\n",
    "\n",
    "This notebook is for exploration and debugging, not unit testing."
   ]
  },
  {
   "cell_type": "markdown",
   "metadata": {
    "application/vnd.databricks.v1+cell": {
     "cellMetadata": {
      "byteLimit": 2048000,
      "rowLimit": 10000
     },
     "inputWidgets": {},
     "nuid": "2234d6ef-1ff8-4457-8724-59f073c1fc7e",
     "showTitle": false,
     "tableResultSettingsMap": {},
     "title": ""
    }
   },
   "source": [
    "This notebook inspects how the `compute_schema_diff` function (in `schema_diff.py`) operates on sample schema JSONs. We'll:\n",
    "\n",
    "Load an old and new schema definition for flat based schema"
   ]
  },
  {
   "cell_type": "code",
   "execution_count": 0,
   "metadata": {
    "application/vnd.databricks.v1+cell": {
     "cellMetadata": {
      "byteLimit": 2048000,
      "rowLimit": 10000
     },
     "inputWidgets": {},
     "nuid": "e2509717-8813-4732-a875-3ef9bb85c164",
     "showTitle": false,
     "tableResultSettingsMap": {},
     "title": ""
    }
   },
   "outputs": [],
   "source": [
    "from src.schema_diff import load_schema, compute_schema_diff\n",
    "\n",
    "old = load_schema(\"/Workspace/Users/lakshya.jain@tmdc.io/schema_drift_agent/schemas/flat_base_old.json\")\n",
    "new = load_schema(\"/Workspace/Users/lakshya.jain@tmdc.io/schema_drift_agent/schemas/flat_base_new.json\")"
   ]
  },
  {
   "cell_type": "markdown",
   "metadata": {
    "application/vnd.databricks.v1+cell": {
     "cellMetadata": {
      "byteLimit": 2048000,
      "rowLimit": 10000
     },
     "inputWidgets": {},
     "nuid": "9afa687b-c09d-4f6b-9f86-99f0a4c98986",
     "showTitle": false,
     "tableResultSettingsMap": {},
     "title": ""
    }
   },
   "source": [
    "Print them to show their full structure"
   ]
  },
  {
   "cell_type": "code",
   "execution_count": 0,
   "metadata": {
    "application/vnd.databricks.v1+cell": {
     "cellMetadata": {
      "byteLimit": 2048000,
      "rowLimit": 10000
     },
     "inputWidgets": {},
     "nuid": "75a26c90-54a6-47dd-aaa4-75d312455a26",
     "showTitle": false,
     "tableResultSettingsMap": {},
     "title": ""
    }
   },
   "outputs": [],
   "source": [
    "from pprint import pprint\n",
    "\n",
    "# Prints the Old Schema\n",
    "print(\"Old Schema:\")\n",
    "pprint(old)\n",
    "\n",
    "# Prints the New Schema\n",
    "print(\"New Schema:\")\n",
    "pprint(new)"
   ]
  },
  {
   "cell_type": "markdown",
   "metadata": {
    "application/vnd.databricks.v1+cell": {
     "cellMetadata": {
      "byteLimit": 2048000,
      "rowLimit": 10000
     },
     "inputWidgets": {},
     "nuid": "754c594e-eea8-4c32-8bed-6596fc4fa8ff",
     "showTitle": false,
     "tableResultSettingsMap": {},
     "title": ""
    }
   },
   "source": [
    "Compute and explore detected drift (added, removed, type-changed columns)"
   ]
  },
  {
   "cell_type": "code",
   "execution_count": 0,
   "metadata": {
    "application/vnd.databricks.v1+cell": {
     "cellMetadata": {
      "byteLimit": 2048000,
      "rowLimit": 10000
     },
     "inputWidgets": {},
     "nuid": "88411bea-8ca1-4a43-bc7d-a3b4da6456cc",
     "showTitle": false,
     "tableResultSettingsMap": {},
     "title": ""
    }
   },
   "outputs": [],
   "source": [
    "# Prints the Difference Between the 2 Schemas\n",
    "diff = compute_schema_diff(old, new)\n",
    "print(\"Detected drift:\")\n",
    "pprint(diff)"
   ]
  }
 ],
 "metadata": {
  "application/vnd.databricks.v1+notebook": {
   "computePreferences": null,
   "dashboards": [],
   "environmentMetadata": {
    "base_environment": "",
    "environment_version": "2"
   },
   "inputWidgetPreferences": null,
   "language": "python",
   "notebookMetadata": {
    "pythonIndentUnit": 4
   },
   "notebookName": "02_Schema_Metadata_Exploration",
   "widgets": {}
  },
  "language_info": {
   "name": "python"
  }
 },
 "nbformat": 4,
 "nbformat_minor": 0
}
