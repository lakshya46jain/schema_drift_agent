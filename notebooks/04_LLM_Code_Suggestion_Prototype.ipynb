{
 "cells": [
  {
   "cell_type": "markdown",
   "metadata": {
    "application/vnd.databricks.v1+cell": {
     "cellMetadata": {
      "byteLimit": 2048000,
      "rowLimit": 10000
     },
     "inputWidgets": {},
     "nuid": "5c7714c1-3b17-4082-9639-0b2960a8abfc",
     "showTitle": false,
     "tableResultSettingsMap": {},
     "title": ""
    }
   },
   "source": [
    "## [04] LLM Code Suggestion Prototype"
   ]
  },
  {
   "cell_type": "code",
   "execution_count": 0,
   "metadata": {
    "application/vnd.databricks.v1+cell": {
     "cellMetadata": {
      "byteLimit": 2048000,
      "rowLimit": 10000
     },
     "inputWidgets": {},
     "nuid": "9bcf2ece-25ab-484a-883c-421267a8425c",
     "showTitle": false,
     "tableResultSettingsMap": {},
     "title": ""
    }
   },
   "outputs": [],
   "source": [
    "from src.schema_diff import load_schema, schema_drift_agent\n",
    "from src.prompt_generator import generate_prompts\n",
    "%pip install openai\n",
    "from src.llm_interface import call_openai"
   ]
  },
  {
   "cell_type": "markdown",
   "metadata": {
    "application/vnd.databricks.v1+cell": {
     "cellMetadata": {
      "byteLimit": 2048000,
      "rowLimit": 10000
     },
     "inputWidgets": {},
     "nuid": "75af84bd-3444-477f-bc95-02e08e4337c9",
     "showTitle": false,
     "tableResultSettingsMap": {},
     "title": ""
    }
   },
   "source": [
    "#### Step 1: Load Old and New Schemas\n",
    "We begin by loading two versions of the schema and computing drift.\n",
    "- `flat_base_old.json`\n",
    "- `flat_base_new.json`"
   ]
  },
  {
   "cell_type": "code",
   "execution_count": 0,
   "metadata": {
    "application/vnd.databricks.v1+cell": {
     "cellMetadata": {
      "byteLimit": 2048000,
      "rowLimit": 10000
     },
     "inputWidgets": {},
     "nuid": "900ca5d4-7f56-43bb-89ec-f10e3d52834a",
     "showTitle": false,
     "tableResultSettingsMap": {},
     "title": ""
    }
   },
   "outputs": [],
   "source": [
    "# Load old and new schema files\n",
    "old = load_schema(\"../schemas/flat_base_old.json\")\n",
    "new = load_schema(\"../schemas/flat_base_new.json\")"
   ]
  },
  {
   "cell_type": "markdown",
   "metadata": {
    "application/vnd.databricks.v1+cell": {
     "cellMetadata": {
      "byteLimit": 2048000,
      "rowLimit": 10000
     },
     "inputWidgets": {},
     "nuid": "ab7e6a42-1410-4f6a-8082-5f970be69943",
     "showTitle": false,
     "tableResultSettingsMap": {},
     "title": ""
    }
   },
   "source": [
    "#### Step 2: Generate Prompts from Diff\n",
    "We use `schema_drift_agent()` to compare the old and new schema and identify changes."
   ]
  },
  {
   "cell_type": "code",
   "execution_count": 0,
   "metadata": {
    "application/vnd.databricks.v1+cell": {
     "cellMetadata": {
      "byteLimit": 2048000,
      "rowLimit": 10000
     },
     "inputWidgets": {},
     "nuid": "48c4e9c3-9f36-42d4-bd13-f478c7844ecd",
     "showTitle": false,
     "tableResultSettingsMap": {},
     "title": ""
    }
   },
   "outputs": [],
   "source": [
    "# Detect schema differences\n",
    "diff = schema_drift_agent(old, new)\n",
    "\n",
    "# Display results\n",
    "print(\"Detected Schema Drift:\")\n",
    "display(diff)"
   ]
  },
  {
   "cell_type": "markdown",
   "metadata": {
    "application/vnd.databricks.v1+cell": {
     "cellMetadata": {
      "byteLimit": 2048000,
      "rowLimit": 10000
     },
     "inputWidgets": {},
     "nuid": "99dd64fb-cd3f-42e9-a0b8-5f1122bb3ab1",
     "showTitle": false,
     "tableResultSettingsMap": {},
     "title": ""
    }
   },
   "source": [
    "#### Step 3: Generate Prompts for LLM\n",
    "Each schema change is turned into a structured prompt using the `generate_prompts()` function."
   ]
  },
  {
   "cell_type": "code",
   "execution_count": 0,
   "metadata": {
    "application/vnd.databricks.v1+cell": {
     "cellMetadata": {
      "byteLimit": 2048000,
      "rowLimit": 10000
     },
     "inputWidgets": {},
     "nuid": "679d595a-3fc6-4aaa-9734-3507434c9cd7",
     "showTitle": false,
     "tableResultSettingsMap": {},
     "title": ""
    }
   },
   "outputs": [],
   "source": [
    "prompts = generate_prompts(diff)\n",
    "\n",
    "# Show all prompts (for inspection)\n",
    "for p in prompts:\n",
    "    print(f\"Prompt Type: {p['template']}\")\n",
    "    print(p['prompt'])\n",
    "    print(\"=\"*50)"
   ]
  },
  {
   "cell_type": "markdown",
   "metadata": {
    "application/vnd.databricks.v1+cell": {
     "cellMetadata": {
      "byteLimit": 2048000,
      "rowLimit": 10000
     },
     "inputWidgets": {},
     "nuid": "38d320a3-7aed-4b1a-a2d8-00847529dd9d",
     "showTitle": false,
     "tableResultSettingsMap": {},
     "title": ""
    }
   },
   "source": [
    "#### Step 4: Call OpenAI (GPT-4o)\n",
    "\n",
    "We send each prompt to OpenAI and receive PySpark code suggestions."
   ]
  },
  {
   "cell_type": "code",
   "execution_count": 0,
   "metadata": {
    "application/vnd.databricks.v1+cell": {
     "cellMetadata": {
      "byteLimit": 2048000,
      "rowLimit": 10000
     },
     "inputWidgets": {},
     "nuid": "18ce40d5-3e8d-4b3c-8bab-09998c87dccd",
     "showTitle": false,
     "tableResultSettingsMap": {},
     "title": ""
    }
   },
   "outputs": [],
   "source": [
    "# Send each prompt to LLM and collect code suggestions\n",
    "# Store prompt-response pairs for logging\n",
    "suggestions = []\n",
    "\n",
    "for p in prompts:\n",
    "    print(f\"Prompt Type: {p['template']}\")\n",
    "    \n",
    "    # Call LLM and print the result\n",
    "    response = call_openai(p['prompt'])\n",
    "    print(\"LLM Suggestion:\")\n",
    "    print(response)\n",
    "\n",
    "    # Log result\n",
    "    suggestions.append({\n",
    "        \"template\": p[\"template\"],\n",
    "        \"prompt\": p[\"prompt\"],\n",
    "        \"suggestion\": response\n",
    "    })\n",
    "\n",
    "    print(\"=\" * 80)"
   ]
  }
 ],
 "metadata": {
  "application/vnd.databricks.v1+notebook": {
   "computePreferences": null,
   "dashboards": [],
   "environmentMetadata": {
    "base_environment": "",
    "environment_version": "2"
   },
   "inputWidgetPreferences": null,
   "language": "python",
   "notebookMetadata": {
    "pythonIndentUnit": 4
   },
   "notebookName": "04_LLM_Code_Suggestion_Prototype",
   "widgets": {}
  },
  "language_info": {
   "name": "python"
  }
 },
 "nbformat": 4,
 "nbformat_minor": 0
}
