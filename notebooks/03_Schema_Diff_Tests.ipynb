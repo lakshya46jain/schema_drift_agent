{
 "cells": [
  {
   "cell_type": "markdown",
   "metadata": {
    "application/vnd.databricks.v1+cell": {
     "cellMetadata": {
      "byteLimit": 2048000,
      "rowLimit": 10000
     },
     "inputWidgets": {},
     "nuid": "bdfea993-ce4d-4d3b-837f-0451f28d2be9",
     "showTitle": true,
     "tableResultSettingsMap": {},
     "title": ""
    },
    "jupyter": {
     "outputs_hidden": true
    }
   },
   "source": [
    "## [03] Schema Diff Tests"
   ]
  },
  {
   "cell_type": "code",
   "execution_count": 0,
   "metadata": {
    "application/vnd.databricks.v1+cell": {
     "cellMetadata": {
      "byteLimit": 2048000,
      "rowLimit": 10000
     },
     "inputWidgets": {},
     "nuid": "b08a7331-00e5-4c1b-9d69-6e926235c2fa",
     "showTitle": false,
     "tableResultSettingsMap": {},
     "title": ""
    }
   },
   "outputs": [],
   "source": [
    "from src.schema_diff import load_schema, compute_schema_diff\n",
    "from pprint import pprint"
   ]
  },
  {
   "cell_type": "markdown",
   "metadata": {
    "application/vnd.databricks.v1+cell": {
     "cellMetadata": {
      "byteLimit": 2048000,
      "rowLimit": 10000
     },
     "inputWidgets": {},
     "nuid": "db3faac8-c0e9-49c6-a3cd-89cf33ccd52a",
     "showTitle": false,
     "tableResultSettingsMap": {},
     "title": ""
    }
   },
   "source": [
    "#### Flat Schema Drift\n",
    "\n",
    "This tests the schema drift detection engine on flat (non-nested) JSON schemas.\n",
    "\n",
    "We compare:\n",
    "- ```flat_base_old.json```: original schema\n",
    "- ```flat_base_new.json```: new schema with:\n",
    "  - ```name``` column removed\n",
    "  - ```age``` column added\n",
    "  - ```id``` column changed from ```IntegerType``` to ```LongType```"
   ]
  },
  {
   "cell_type": "code",
   "execution_count": 0,
   "metadata": {
    "application/vnd.databricks.v1+cell": {
     "cellMetadata": {
      "byteLimit": 2048000,
      "rowLimit": 10000
     },
     "inputWidgets": {},
     "nuid": "a3a4b116-a441-4b7c-87c1-8c84723ca207",
     "showTitle": false,
     "tableResultSettingsMap": {},
     "title": ""
    }
   },
   "outputs": [],
   "source": [
    "# --- Load Schemas ---\n",
    "old_flat = load_schema(\"/Workspace/Users/lakshya.jain@tmdc.io/schema_drift_agent/schemas/flat_base_old.json\")\n",
    "new_flat = load_schema(\"/Workspace/Users/lakshya.jain@tmdc.io/schema_drift_agent/schemas/flat_base_new.json\")\n",
    "\n",
    "# --- Compute Drift ---\n",
    "flat_diff = compute_schema_diff(old_flat, new_flat)\n",
    "\n",
    "# --- Display Drift\n",
    "print(\"Flat Schema Drift Detected:\")\n",
    "pprint(flat_diff)"
   ]
  },
  {
   "cell_type": "code",
   "execution_count": 0,
   "metadata": {
    "application/vnd.databricks.v1+cell": {
     "cellMetadata": {
      "byteLimit": 2048000,
      "rowLimit": 10000
     },
     "inputWidgets": {},
     "nuid": "aae3f622-1897-4bb6-a085-d0bfb21a6bbd",
     "showTitle": false,
     "tableResultSettingsMap": {},
     "title": ""
    }
   },
   "outputs": [],
   "source": [
    "# --- Assertions for Testing ---\n",
    "assert flat_diff[\"added\"] == [\"age\"]\n",
    "assert flat_diff[\"removed\"] == [\"name\"]\n",
    "assert flat_diff[\"type_changed\"] == [{\"col\": \"id\", \"from\": \"IntegerType\", \"to\": \"LongType\"}]\n",
    "\n",
    "print(\"All flat schema drift tests passed.\")"
   ]
  },
  {
   "cell_type": "markdown",
   "metadata": {
    "application/vnd.databricks.v1+cell": {
     "cellMetadata": {
      "byteLimit": 2048000,
      "rowLimit": 10000
     },
     "inputWidgets": {},
     "nuid": "711156bb-bb1b-4221-86ee-22e0a0d64b53",
     "showTitle": false,
     "tableResultSettingsMap": {},
     "title": ""
    }
   },
   "source": [
    "#### Nested Schema Drift\n",
    "\n",
    "This test validates that the drift detection engine correctly identifies changes inside nested `struct` fields.\n",
    "\n",
    "We compare:\n",
    "- `nested_test_old.json`: original schema with:\n",
    "  - `user.id` as `IntegerType`\n",
    "  - `user.email` present\n",
    "- `nested_test_new.json`: updated schema with:\n",
    "  - `user.id` changed to `LongType`\n",
    "  - `user.email` removed\n",
    "  - `user.age` added\n",
    "\n",
    "Expected drift:\n",
    "- Added field: `user.age`\n",
    "- Removed field: `user.email`\n",
    "- Type change: `user.id` from `IntegerType` → `LongType`"
   ]
  },
  {
   "cell_type": "code",
   "execution_count": 0,
   "metadata": {
    "application/vnd.databricks.v1+cell": {
     "cellMetadata": {
      "byteLimit": 2048000,
      "rowLimit": 10000
     },
     "inputWidgets": {},
     "nuid": "06c29900-c974-42cb-9745-fdb5986296fc",
     "showTitle": false,
     "tableResultSettingsMap": {},
     "title": ""
    }
   },
   "outputs": [],
   "source": [
    "# --- Load Nested Schemas ---\n",
    "old_nested = load_schema(\"/Workspace/Users/lakshya.jain@tmdc.io/schema_drift_agent/schemas/nested_test_old.json\")\n",
    "new_nested = load_schema(\"/Workspace/Users/lakshya.jain@tmdc.io/schema_drift_agent/schemas/nested_test_new.json\")\n",
    "\n",
    "# --- Compute Nested Drift ---\n",
    "nested_diff = compute_schema_diff(old_nested, new_nested)\n",
    "\n",
    "# --- Display Drift\n",
    "print(\"Nested Schema Drift Detected:\")\n",
    "pprint(nested_diff)"
   ]
  },
  {
   "cell_type": "code",
   "execution_count": 0,
   "metadata": {
    "application/vnd.databricks.v1+cell": {
     "cellMetadata": {
      "byteLimit": 2048000,
      "rowLimit": 10000
     },
     "inputWidgets": {},
     "nuid": "f6c48d90-820a-4c7c-8100-173ebd172eba",
     "showTitle": false,
     "tableResultSettingsMap": {},
     "title": ""
    }
   },
   "outputs": [],
   "source": [
    "# --- Assertions for Testing ---\n",
    "assert nested_diff[\"added\"] == [\"user.age\"]\n",
    "assert nested_diff[\"removed\"] == [\"user.email\"]\n",
    "assert nested_diff[\"type_changed\"] == [{\"col\": \"user.id\", \"from\": \"IntegerType\", \"to\": \"LongType\"}]\n",
    "\n",
    "print(\"All nested schema drift tests passed.\")"
   ]
  },
  {
   "cell_type": "markdown",
   "metadata": {
    "application/vnd.databricks.v1+cell": {
     "cellMetadata": {
      "byteLimit": 2048000,
      "rowLimit": 10000
     },
     "inputWidgets": {},
     "nuid": "f2a4b61c-dbc8-47b9-85b0-130d420ebb08",
     "showTitle": false,
     "tableResultSettingsMap": {},
     "title": ""
    }
   },
   "source": [
    "#### Rename Schema Drift\n",
    "\n",
    "This test verifies that the engine correctly identifies renamed columns using:\n",
    "- `rename_test_old.json`: schema with `fullname`\n",
    "- `rename_test_new.json`: schema with `name`\n",
    "- `rename_hints.json`: mapping `\"fullname\" → \"name\"`\n",
    "\n",
    "Expected output:\n",
    "- `renamed`: `{\"from\": \"fullname\", \"to\": \"name\"}`\n",
    "- No items in `added` or `removed`"
   ]
  },
  {
   "cell_type": "code",
   "execution_count": 0,
   "metadata": {
    "application/vnd.databricks.v1+cell": {
     "cellMetadata": {
      "byteLimit": 2048000,
      "rowLimit": 10000
     },
     "inputWidgets": {},
     "nuid": "1b696088-921c-46ef-ade4-b0fa82893be8",
     "showTitle": false,
     "tableResultSettingsMap": {},
     "title": ""
    }
   },
   "outputs": [],
   "source": [
    "from src.schema_diff import detect_renames\n",
    "\n",
    "# --- Load Rename Test Schemas ---\n",
    "old_rename = load_schema(\"/Workspace/Users/lakshya.jain@tmdc.io/schema_drift_agent/schemas/rename_test_old.json\")\n",
    "new_rename = load_schema(\"/Workspace/Users/lakshya.jain@tmdc.io/schema_drift_agent/schemas/rename_test_new.json\")\n",
    "\n",
    "# --- Compute Base Drift ---\n",
    "rename_diff = compute_schema_diff(old_rename, new_rename)\n",
    "\n",
    "# --- Load Rename Hints ---\n",
    "rename_hints = load_schema(\"/Workspace/Users/lakshya.jain@tmdc.io/schema_drift_agent/schemas/rename_hints.json\")\n",
    "\n",
    "# --- Create field name → type maps (for top-level fields only)\n",
    "old_fields_map = {f[\"name\"]: f[\"type\"] for f in old_rename[\"fields\"]}\n",
    "new_fields_map = {f[\"name\"]: f[\"type\"] for f in new_rename[\"fields\"]}\n",
    "\n",
    "# --- Run Rename Detection\n",
    "detect_renames(rename_diff, old_fields_map, new_fields_map, rename_hints)\n",
    "\n",
    "# --- Display Result\n",
    "print(\"Rename Schema Drift Detected:\")\n",
    "pprint(rename_diff)"
   ]
  },
  {
   "cell_type": "code",
   "execution_count": 0,
   "metadata": {
    "application/vnd.databricks.v1+cell": {
     "cellMetadata": {
      "byteLimit": 2048000,
      "rowLimit": 10000
     },
     "inputWidgets": {},
     "nuid": "ad109360-4e99-4c2a-8885-52bede589224",
     "showTitle": false,
     "tableResultSettingsMap": {},
     "title": ""
    }
   },
   "outputs": [],
   "source": [
    "# --- Assertions\n",
    "assert rename_diff[\"renamed\"] == [{\"from\": \"fullname\", \"to\": \"name\"}]\n",
    "assert rename_diff[\"added\"] == []\n",
    "assert rename_diff[\"removed\"] == []\n",
    "\n",
    "print(\"Rename schema drift test passed.\")"
   ]
  }
 ],
 "metadata": {
  "application/vnd.databricks.v1+notebook": {
   "computePreferences": null,
   "dashboards": [],
   "environmentMetadata": {
    "base_environment": "",
    "environment_version": "2"
   },
   "inputWidgetPreferences": null,
   "language": "python",
   "notebookMetadata": {
    "pythonIndentUnit": 4
   },
   "notebookName": "03_Schema_Diff_Tests",
   "widgets": {}
  },
  "language_info": {
   "name": "python"
  }
 },
 "nbformat": 4,
 "nbformat_minor": 0
}
