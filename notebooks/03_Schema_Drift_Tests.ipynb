{
 "cells": [
  {
   "cell_type": "markdown",
   "metadata": {
    "application/vnd.databricks.v1+cell": {
     "cellMetadata": {
      "byteLimit": 2048000,
      "rowLimit": 10000
     },
     "inputWidgets": {},
     "nuid": "bdfea993-ce4d-4d3b-837f-0451f28d2be9",
     "showTitle": true,
     "tableResultSettingsMap": {},
     "title": ""
    },
    "jupyter": {
     "outputs_hidden": true
    }
   },
   "source": [
    "## [03] Schema Drift Tests"
   ]
  },
  {
   "cell_type": "code",
   "execution_count": 0,
   "metadata": {
    "application/vnd.databricks.v1+cell": {
     "cellMetadata": {
      "byteLimit": 2048000,
      "rowLimit": 10000
     },
     "inputWidgets": {},
     "nuid": "b08a7331-00e5-4c1b-9d69-6e926235c2fa",
     "showTitle": false,
     "tableResultSettingsMap": {},
     "title": ""
    }
   },
   "outputs": [],
   "source": [
    "from src.schema_diff import load_schema, compute_schema_diff"
   ]
  },
  {
   "cell_type": "markdown",
   "metadata": {
    "application/vnd.databricks.v1+cell": {
     "cellMetadata": {
      "byteLimit": 2048000,
      "rowLimit": 10000
     },
     "inputWidgets": {},
     "nuid": "db3faac8-c0e9-49c6-a3cd-89cf33ccd52a",
     "showTitle": false,
     "tableResultSettingsMap": {},
     "title": ""
    }
   },
   "source": [
    "#### Flat Schema Drift\n",
    "\n",
    "This tests the schema drift detection engine on flat (non-nested) JSON schemas.\n",
    "\n",
    "We compare:\n",
    "- ```flat_base_old.json```: original schema\n",
    "- ```flat_base_new.json```: new schema with:\n",
    "  - ```name``` column removed\n",
    "  - ```age``` column added\n",
    "  - ```id``` column changed from ```IntegerType``` to ```LongType```"
   ]
  },
  {
   "cell_type": "code",
   "execution_count": 0,
   "metadata": {
    "application/vnd.databricks.v1+cell": {
     "cellMetadata": {
      "byteLimit": 2048000,
      "rowLimit": 10000
     },
     "inputWidgets": {},
     "nuid": "a3a4b116-a441-4b7c-87c1-8c84723ca207",
     "showTitle": false,
     "tableResultSettingsMap": {},
     "title": ""
    }
   },
   "outputs": [],
   "source": [
    "# --- Load Schemas ---\n",
    "old_flat = load_schema(\"/Workspace/Users/lakshya.jain@tmdc.io/schema_drift_agent/schemas/flat_base_old.json\")\n",
    "new_flat = load_schema(\"/Workspace/Users/lakshya.jain@tmdc.io/schema_drift_agent/schemas/flat_base_new.json\")\n",
    "\n",
    "# --- Compute Drift ---\n",
    "diff = compute_schema_diff(old_flat, new_flat)\n",
    "\n",
    "# --- Assertions for Testing ---\n",
    "assert diff[\"added\"] == [\"age\"]\n",
    "assert diff[\"removed\"] == [\"name\"]\n",
    "assert diff[\"type_changed\"] == [{\"col\": \"id\", \"from\": \"IntegerType\", \"to\": \"LongType\"}]"
   ]
  },
  {
   "cell_type": "code",
   "execution_count": 0,
   "metadata": {
    "application/vnd.databricks.v1+cell": {
     "cellMetadata": {
      "byteLimit": 2048000,
      "rowLimit": 10000
     },
     "inputWidgets": {},
     "nuid": "aae3f622-1897-4bb6-a085-d0bfb21a6bbd",
     "showTitle": false,
     "tableResultSettingsMap": {},
     "title": ""
    }
   },
   "outputs": [],
   "source": [
    "print(\"All flat schema drift tests passed.\")"
   ]
  }
 ],
 "metadata": {
  "application/vnd.databricks.v1+notebook": {
   "computePreferences": null,
   "dashboards": [],
   "environmentMetadata": {
    "base_environment": "",
    "environment_version": "2"
   },
   "inputWidgetPreferences": null,
   "language": "python",
   "notebookMetadata": {
    "pythonIndentUnit": 4
   },
   "notebookName": "03_Schema_Drift_Tests",
   "widgets": {}
  },
  "language_info": {
   "name": "python"
  }
 },
 "nbformat": 4,
 "nbformat_minor": 0
}
