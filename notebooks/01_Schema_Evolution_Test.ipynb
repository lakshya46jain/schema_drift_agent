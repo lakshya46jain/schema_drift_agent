{
 "cells": [
  {
   "cell_type": "markdown",
   "metadata": {
    "application/vnd.databricks.v1+cell": {
     "cellMetadata": {},
     "inputWidgets": {},
     "nuid": "cb685850-1314-43c7-bd59-669f779edb53",
     "showTitle": false,
     "tableResultSettingsMap": {},
     "title": ""
    }
   },
   "source": [
    "## [01] Schema Evolution Test"
   ]
  },
  {
   "cell_type": "markdown",
   "metadata": {
    "application/vnd.databricks.v1+cell": {
     "cellMetadata": {},
     "inputWidgets": {},
     "nuid": "bb6660a1-af64-43cf-95ec-78e5c4dd1c82",
     "showTitle": false,
     "tableResultSettingsMap": {},
     "title": ""
    }
   },
   "source": [
    "| Scenario | Feature Tested | Expected Behavior | Notes |\n",
    "|----------|----------------|--------------------|-------|\n",
    "| Append data with same schema | Baseline | ✅ Data appends successfully | Confirms Delta can accept schema-matching data without error |\n",
    "| Append data with **new column** | Schema Enforcement | ❌ Fails unless `.option(\"mergeSchema\", \"true\")` is set | Delta blocks writes with unknown columns by default |\n",
    "| Append data with **new column** + mergeSchema | Schema Evolution | ✅ Delta adds the new column to the table schema | Only supported for additions; no error thrown |\n",
    "| Append data with **changed type** | Schema Evolution (nullable/upcast) | ✅ Sometimes allowed, depending on compatibility (e.g., INT → LONG) | Delta allows upcasts; stricter type changes require overwrite or DDL |\n",
    "| Rename column | Not supported by mergeSchema | ❌ Delta throws error unless `.option(\"overwriteSchema\", \"true\")` is used | Renaming needs full overwrite to avoid data integrity issues |\n",
    "| Overwrite table with new schema | Overwrite Schema           | ✅ Succeeds with `.option(\"overwriteSchema\", \"true\")` | Replaces entire schema, used for renames or redefinitions |\n",
    "| Column removal | Not supported by mergeSchema | ❌ Must use overwriteSchema or DDL | Delta does not auto-remove columns; must be done manually |"
   ]
  },
  {
   "cell_type": "markdown",
   "metadata": {
    "application/vnd.databricks.v1+cell": {
     "cellMetadata": {},
     "inputWidgets": {},
     "nuid": "28ac7b1a-bcb0-4d48-ba08-107c08589108",
     "showTitle": false,
     "tableResultSettingsMap": {},
     "title": ""
    }
   },
   "source": [
    "#### Takeaway\n",
    "- Delta Lake supports automatic schema evolution **only for column additions** and some **safe type promotions** when ```.option(\"mergeSchema\", \"true\")``` is used.  \n",
    "\n",
    "- Schema enforcement is strict by default to prevent data corruption.  \n",
    "\n",
    "- Advanced changes like renaming or deleting columns require ```.overwriteSchema``` or manual DDL updates."
   ]
  }
 ],
 "metadata": {
  "application/vnd.databricks.v1+notebook": {
   "computePreferences": null,
   "dashboards": [],
   "environmentMetadata": {
    "base_environment": "",
    "environment_version": "2"
   },
   "inputWidgetPreferences": null,
   "language": "python",
   "notebookMetadata": {
    "pythonIndentUnit": 4
   },
   "notebookName": "01_Schema_Evolution_Test",
   "widgets": {}
  },
  "language_info": {
   "name": "python"
  }
 },
 "nbformat": 4,
 "nbformat_minor": 0
}
